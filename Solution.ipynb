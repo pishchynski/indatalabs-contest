{
 "cells": [
  {
   "cell_type": "code",
   "execution_count": 2,
   "metadata": {},
   "outputs": [],
   "source": [
    "from __future__ import division, unicode_literals\n",
    "\n",
    "import pandas as pd\n",
    "import numpy as np\n",
    "\n",
    "from sklearn.metrics import roc_auc_score"
   ]
  },
  {
   "cell_type": "heading",
   "metadata": {},
   "level": 1,
   "source": [
    "Чтение данных"
   ]
  },
  {
   "cell_type": "code",
   "execution_count": 3,
   "metadata": {},
   "outputs": [],
   "source": [
    "train = pd.read_csv('train.csv', encoding='utf-8', \n",
    "                    lineterminator='\\n')"
   ]
  },
  {
   "cell_type": "code",
   "execution_count": 4,
   "metadata": {},
   "outputs": [],
   "source": [
    "test = pd.read_csv('test.csv', encoding='utf-8', \n",
    "                   lineterminator='\\n')"
   ]
  },
  {
   "cell_type": "code",
   "execution_count": 5,
   "metadata": {},
   "outputs": [],
   "source": [
    "assert(all(train.columns[:-1] == test.columns))\n",
    "assert(train.columns[-1] == 'retweet_count')"
   ]
  },
  {
   "cell_type": "heading",
   "metadata": {},
   "level": 2,
   "source": [
    "Доступные колонки"
   ]
  },
  {
   "cell_type": "code",
   "execution_count": 6,
   "metadata": {
    "collapsed": false
   },
   "outputs": [
    {
     "name": "stdout",
     "output_type": "stream",
     "text": [
      "id\ntext\nin_reply_to_user_id\nuser.id\nuser.name\nuser.screen_name\nuser.description\nuser.location\nuser.lang\nuser.time_zone\nuser.utc_offset\nuser.statuses_count\nuser.followers_count\nuser.friends_count\nuser.favourites_count\nuser.created_at\nuser.geo_enabled\nuser.is_translation_enabled\nuser.listed_count\nretweet_count\n"
     ]
    }
   ],
   "source": [
    "for index, field in enumerate(train.columns):\n",
    "    print(field)"
   ]
  },
  {
   "cell_type": "heading",
   "metadata": {},
   "level": 2,
   "source": [
    "Пример записей"
   ]
  },
  {
   "cell_type": "code",
   "execution_count": 7,
   "metadata": {},
   "outputs": [
    {
     "data": {
      "text/html": [
       "<div>\n",
       "<table border=\"1\" class=\"dataframe\">\n",
       "  <thead>\n",
       "    <tr style=\"text-align: right;\">\n",
       "      <th></th>\n",
       "      <th>id</th>\n",
       "      <th>text</th>\n",
       "      <th>in_reply_to_user_id</th>\n",
       "      <th>user.id</th>\n",
       "      <th>user.name</th>\n",
       "      <th>user.screen_name</th>\n",
       "      <th>user.description</th>\n",
       "      <th>user.location</th>\n",
       "      <th>user.lang</th>\n",
       "      <th>user.time_zone</th>\n",
       "      <th>user.utc_offset</th>\n",
       "      <th>user.statuses_count</th>\n",
       "      <th>user.followers_count</th>\n",
       "      <th>user.friends_count</th>\n",
       "      <th>user.favourites_count</th>\n",
       "      <th>user.created_at</th>\n",
       "      <th>user.geo_enabled</th>\n",
       "      <th>user.is_translation_enabled</th>\n",
       "      <th>user.listed_count</th>\n",
       "      <th>retweet_count</th>\n",
       "    </tr>\n",
       "  </thead>\n",
       "  <tbody>\n",
       "    <tr>\n",
       "      <th>0</th>\n",
       "      <td>629692043326062592</td>\n",
       "      <td>Me and ma fwends 🍎 http://t.co/B3YJ31hZuc</td>\n",
       "      <td>0.0</td>\n",
       "      <td>133840449</td>\n",
       "      <td>Paul C. wilson</td>\n",
       "      <td>xcaptainpaulx</td>\n",
       "      <td>Guitarist for @chunknocaptainc // Founder @off...</td>\n",
       "      <td>NaN</td>\n",
       "      <td>fr</td>\n",
       "      <td>Paris</td>\n",
       "      <td>7200.0</td>\n",
       "      <td>1606</td>\n",
       "      <td>9164</td>\n",
       "      <td>205</td>\n",
       "      <td>758</td>\n",
       "      <td>Fri Apr 16 19:33:58 +0000 2010</td>\n",
       "      <td>True</td>\n",
       "      <td>False</td>\n",
       "      <td>27</td>\n",
       "      <td>12</td>\n",
       "    </tr>\n",
       "    <tr>\n",
       "      <th>1</th>\n",
       "      <td>629692041362968576</td>\n",
       "      <td>@SinedioMD @AspyrMedia Try this link https://t...</td>\n",
       "      <td>7629232.0</td>\n",
       "      <td>21245956</td>\n",
       "      <td>Direct2Drive.com</td>\n",
       "      <td>Direct2Drive</td>\n",
       "      <td>D2D has an ever-expanding library of downloada...</td>\n",
       "      <td>California, USA</td>\n",
       "      <td>en</td>\n",
       "      <td>Pacific Time (US &amp; Canada)</td>\n",
       "      <td>-25200.0</td>\n",
       "      <td>3004</td>\n",
       "      <td>7484</td>\n",
       "      <td>708</td>\n",
       "      <td>44</td>\n",
       "      <td>Wed Feb 18 21:58:04 +0000 2009</td>\n",
       "      <td>False</td>\n",
       "      <td>False</td>\n",
       "      <td>330</td>\n",
       "      <td>0</td>\n",
       "    </tr>\n",
       "    <tr>\n",
       "      <th>2</th>\n",
       "      <td>629692040679419904</td>\n",
       "      <td>@davidrobots @GamesRadar @David_H_Esq @CatGone...</td>\n",
       "      <td>16535125.0</td>\n",
       "      <td>63785369</td>\n",
       "      <td>Anthony John Agnello</td>\n",
       "      <td>ajohnagnello</td>\n",
       "      <td>I am the Senior Social Editor at GamesRadar+ a...</td>\n",
       "      <td>New York City</td>\n",
       "      <td>en</td>\n",
       "      <td>Eastern Time (US &amp; Canada)</td>\n",
       "      <td>-14400.0</td>\n",
       "      <td>3988</td>\n",
       "      <td>2050</td>\n",
       "      <td>491</td>\n",
       "      <td>422</td>\n",
       "      <td>Fri Aug 07 17:49:40 +0000 2009</td>\n",
       "      <td>False</td>\n",
       "      <td>False</td>\n",
       "      <td>70</td>\n",
       "      <td>0</td>\n",
       "    </tr>\n",
       "    <tr>\n",
       "      <th>3</th>\n",
       "      <td>629692040666812416</td>\n",
       "      <td>Already hearing scanner traffic from Heath ask...</td>\n",
       "      <td>0.0</td>\n",
       "      <td>28812126</td>\n",
       "      <td>Bethany Bruner</td>\n",
       "      <td>bethany_bruner</td>\n",
       "      <td>Breaking News Reporter for @NewarkAdvocate,  @...</td>\n",
       "      <td>NaN</td>\n",
       "      <td>en</td>\n",
       "      <td>Eastern Time (US &amp; Canada)</td>\n",
       "      <td>-14400.0</td>\n",
       "      <td>9018</td>\n",
       "      <td>919</td>\n",
       "      <td>309</td>\n",
       "      <td>79</td>\n",
       "      <td>Sat Apr 04 15:31:07 +0000 2009</td>\n",
       "      <td>True</td>\n",
       "      <td>False</td>\n",
       "      <td>38</td>\n",
       "      <td>0</td>\n",
       "    </tr>\n",
       "    <tr>\n",
       "      <th>4</th>\n",
       "      <td>629692038842306560</td>\n",
       "      <td>@MelJohnson6527 next year with @Chuck_Ellis #c...</td>\n",
       "      <td>181232379.0</td>\n",
       "      <td>44024059</td>\n",
       "      <td>Nolan Smith</td>\n",
       "      <td>NdotSmitty</td>\n",
       "      <td>2010 Duke National Champ! I'm Still ON A MISSI...</td>\n",
       "      <td>DMV/Durham/Louisville/ Next??</td>\n",
       "      <td>en</td>\n",
       "      <td>Quito</td>\n",
       "      <td>-18000.0</td>\n",
       "      <td>32527</td>\n",
       "      <td>85356</td>\n",
       "      <td>912</td>\n",
       "      <td>137</td>\n",
       "      <td>Tue Jun 02 01:16:08 +0000 2009</td>\n",
       "      <td>True</td>\n",
       "      <td>False</td>\n",
       "      <td>1232</td>\n",
       "      <td>1</td>\n",
       "    </tr>\n",
       "  </tbody>\n",
       "</table>\n",
       "</div>"
      ],
      "text/plain": []
     },
     "metadata": {},
     "output_type": "execute_result"
    }
   ],
   "source": [
    "train.head()"
   ]
  },
  {
   "cell_type": "heading",
   "metadata": {},
   "level": 1,
   "source": [
    "Вычисление признаков"
   ]
  },
  {
   "cell_type": "code",
   "execution_count": 25,
   "metadata": {},
   "outputs": [],
   "source": [
    "lang_rt = train[['user.lang', 'retweet_count']].groupby(by='user.lang').mean()\n",
    "lang_rt = lang_rt.to_dict()\n",
    "# print(lang_rt)"
   ]
  },
  {
   "cell_type": "code",
   "execution_count": 23,
   "metadata": {
    "collapsed": true
   },
   "outputs": [],
   "source": [
    "# location_rt = train[['user.location', 'retweet_count']].groupby(by='user.location').mean()\n",
    "# location_rt = location_rt.to_dict()\n",
    "# print(location_rt)"
   ]
  },
  {
   "cell_type": "code",
   "execution_count": 24,
   "metadata": {},
   "outputs": [],
   "source": [
    "time_zone_rt = train[['user.time_zone', 'retweet_count']].groupby(by='user.time_zone').mean()\n",
    "time_zone_rt = time_zone_rt.to_dict()\n",
    "# print(time_zone_rt)"
   ]
  },
  {
   "cell_type": "code",
   "execution_count": null,
   "metadata": {},
   "outputs": [],
   "source": [
    "def get_tweet_features(data):\n",
    "    mentions = []\n",
    "    is_citations = []\n",
    "    links = []\n",
    "    RLRTs = []\n",
    "    is_replys = []\n",
    "    for tweet in data:\n",
    "        mention_c = tweet['text'].count('@')\n",
    "        is_citation = tweet['text'].find('MT @') + 1\n",
    "        \n",
    "        if is_citation > 0:\n",
    "            mention_c -= 1\n",
    "            is_citation = 1\n",
    "        else:\n",
    "            is_citation = 0\n",
    "\n",
    "        if tweet['in_reply_to_user_id'] != 0:\n",
    "            is_replys.append(1)\n",
    "            mention_c -= 1\n",
    "        else:\n",
    "            is_replys.append(0)\n",
    "        \n",
    "        if mention_c < 0:\n",
    "            mention_c = 0\n",
    "            \n",
    "        mentions.append(mention_c)\n",
    "        is_citations.append(is_citation)\n",
    "        links.append(tweet['text'].count('http'))\n",
    "        RLRTs.append(tweet['text'].count('RLRT'))\n",
    "    features = [pd.Series.from_array(mentions),\n",
    "                pd.Series.from_array(is_citations),\n",
    "                pd.Series.from_array(links),\n",
    "                pd.Series.from_array(RLRTs),\n",
    "                pd.Series.from_array(is_replys)]\n",
    "    return features"
   ]
  },
  {
   "cell_type": "code",
   "execution_count": 9,
   "metadata": {},
   "outputs": [],
   "source": [
    "def df2features(df):\n",
    "    return np.array([\n",
    "        df['user.id'],\n",
    "        df['user.followers_count'],\n",
    "    ]).transpose()\n",
    "\n",
    "train_X = df2features(train)\n",
    "test_X = df2features(test)"
   ]
  },
  {
   "cell_type": "heading",
   "metadata": {},
   "level": 1,
   "source": [
    "Построение модели"
   ]
  },
  {
   "cell_type": "markdown",
   "metadata": {},
   "source": [
    "Вычисляем значения целевого признака в обучающей выборке."
   ]
  },
  {
   "cell_type": "code",
   "execution_count": 10,
   "metadata": {},
   "outputs": [],
   "source": [
    "train_y = train['retweet_count'] > 20"
   ]
  },
  {
   "cell_type": "markdown",
   "metadata": {},
   "source": [
    "Для примера в качестве модели строим простейшее решающее дерево."
   ]
  },
  {
   "cell_type": "code",
   "execution_count": 11,
   "metadata": {},
   "outputs": [
    {
     "data": {
      "text/plain": [
       "DecisionTreeClassifier(class_weight=None, criterion='gini', max_depth=None,\n            max_features=None, max_leaf_nodes=None,\n            min_impurity_split=1e-07, min_samples_leaf=1,\n            min_samples_split=2, min_weight_fraction_leaf=0.0,\n            presort=False, random_state=None, splitter='best')"
      ]
     },
     "execution_count": 10,
     "metadata": {},
     "output_type": "execute_result"
    }
   ],
   "source": [
    "from sklearn.tree import DecisionTreeClassifier\n",
    "\n",
    "est = DecisionTreeClassifier()\n",
    "\n",
    "est.fit(train_X, train_y)"
   ]
  },
  {
   "cell_type": "markdown",
   "metadata": {},
   "source": [
    "Пример вычисления площади под ROC-кривой на **обучающей** выборке."
   ]
  },
  {
   "cell_type": "code",
   "execution_count": 12,
   "metadata": {},
   "outputs": [
    {
     "name": "stdout",
     "output_type": "stream",
     "text": [
      "0.989581404961\n"
     ]
    }
   ],
   "source": [
    "proba = est.predict_proba(train_X)\n",
    "print(roc_auc_score(train_y, proba[:,1]))"
   ]
  },
  {
   "cell_type": "heading",
   "metadata": {},
   "level": 1,
   "source": [
    "Кросс-валидация"
   ]
  },
  {
   "cell_type": "code",
   "execution_count": 13,
   "metadata": {},
   "outputs": [],
   "source": [
    "from sklearn.model_selection import KFold\n",
    "from sklearn.model_selection import cross_val_score"
   ]
  },
  {
   "cell_type": "heading",
   "metadata": {},
   "level": 1,
   "source": [
    "Построение и запись прогноза"
   ]
  },
  {
   "cell_type": "markdown",
   "metadata": {},
   "source": [
    "Читаем демо-файл с прогнозом"
   ]
  },
  {
   "cell_type": "code",
   "execution_count": 14,
   "metadata": {},
   "outputs": [
    {
     "data": {
      "text/html": [
       "<div>\n",
       "<table border=\"1\" class=\"dataframe\">\n",
       "  <thead>\n",
       "    <tr style=\"text-align: right;\">\n",
       "      <th></th>\n",
       "      <th>id</th>\n",
       "      <th>probability</th>\n",
       "    </tr>\n",
       "  </thead>\n",
       "  <tbody>\n",
       "    <tr>\n",
       "      <th>0</th>\n",
       "      <td>629692042952765440</td>\n",
       "      <td>0.765988</td>\n",
       "    </tr>\n",
       "    <tr>\n",
       "      <th>1</th>\n",
       "      <td>629692042717855745</td>\n",
       "      <td>0.160099</td>\n",
       "    </tr>\n",
       "    <tr>\n",
       "      <th>2</th>\n",
       "      <td>629692039974813696</td>\n",
       "      <td>0.825652</td>\n",
       "    </tr>\n",
       "    <tr>\n",
       "      <th>3</th>\n",
       "      <td>629692038242566145</td>\n",
       "      <td>0.495118</td>\n",
       "    </tr>\n",
       "    <tr>\n",
       "      <th>4</th>\n",
       "      <td>629692036879413248</td>\n",
       "      <td>0.656044</td>\n",
       "    </tr>\n",
       "  </tbody>\n",
       "</table>\n",
       "</div>"
      ],
      "text/plain": []
     },
     "metadata": {},
     "output_type": "execute_result"
    }
   ],
   "source": [
    "prediction = pd.read_csv('sample_prediction.csv')\n",
    "\n",
    "prediction.head()"
   ]
  },
  {
   "cell_type": "markdown",
   "metadata": {},
   "source": [
    "Строим новый прогноз и обновляем вероятности того, что ретвитов больше 20."
   ]
  },
  {
   "cell_type": "code",
   "execution_count": 15,
   "metadata": {},
   "outputs": [],
   "source": [
    "proba = est.predict_proba(test_X)\n",
    "prediction['probability'] = proba[:,1]"
   ]
  },
  {
   "cell_type": "markdown",
   "metadata": {},
   "source": [
    "Записываем полученный результат в файл **prediction.csv**."
   ]
  },
  {
   "cell_type": "code",
   "execution_count": 16,
   "metadata": {},
   "outputs": [],
   "source": [
    "prediction.to_csv('prediction.csv', index=False)"
   ]
  },
  {
   "cell_type": "code",
   "execution_count": 16,
   "metadata": {},
   "outputs": [
    {
     "data": {
      "text/html": [
       "<div>\n",
       "<table border=\"1\" class=\"dataframe\">\n",
       "  <thead>\n",
       "    <tr style=\"text-align: right;\">\n",
       "      <th></th>\n",
       "      <th>id</th>\n",
       "      <th>probability</th>\n",
       "    </tr>\n",
       "  </thead>\n",
       "  <tbody>\n",
       "    <tr>\n",
       "      <th>0</th>\n",
       "      <td>629692042952765440</td>\n",
       "      <td>0.0</td>\n",
       "    </tr>\n",
       "    <tr>\n",
       "      <th>1</th>\n",
       "      <td>629692042717855745</td>\n",
       "      <td>0.0</td>\n",
       "    </tr>\n",
       "    <tr>\n",
       "      <th>2</th>\n",
       "      <td>629692039974813696</td>\n",
       "      <td>0.2</td>\n",
       "    </tr>\n",
       "    <tr>\n",
       "      <th>3</th>\n",
       "      <td>629692038242566145</td>\n",
       "      <td>1.0</td>\n",
       "    </tr>\n",
       "    <tr>\n",
       "      <th>4</th>\n",
       "      <td>629692036879413248</td>\n",
       "      <td>0.0</td>\n",
       "    </tr>\n",
       "  </tbody>\n",
       "</table>\n",
       "</div>"
      ],
      "text/plain": []
     },
     "metadata": {},
     "output_type": "execute_result"
    }
   ],
   "source": [
    "prediction.head()"
   ]
  },
  {
   "cell_type": "code",
   "execution_count": 17,
   "metadata": {},
   "outputs": [],
   "source": [
    ""
   ]
  },
  {
   "cell_type": "code",
   "execution_count": null,
   "metadata": {},
   "outputs": [],
   "source": [
    ""
   ]
  }
 ],
 "metadata": {
  "kernelspec": {
   "display_name": "Python 2",
   "language": "python",
   "name": "python2"
  },
  "language_info": {
   "codemirror_mode": {
    "name": "ipython",
    "version": 2.0
   },
   "file_extension": ".py",
   "mimetype": "text/x-python",
   "name": "python",
   "nbconvert_exporter": "python",
   "pygments_lexer": "ipython2",
   "version": "2.7.12"
  },
  "name": ""
 },
 "nbformat": 4,
 "nbformat_minor": 0
}